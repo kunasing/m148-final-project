{
 "cells": [
  {
   "cell_type": "markdown",
   "metadata": {},
   "source": [
    "#### 1) Explain what data set your team had chosen for the project.\n",
    "We chose the Spotify Dataset.\n",
    "#### 2) Explain the main features in the data that you are studying and why.\n",
    "The features of the data include many spotify-created metrics such as danceability, acousticness, speechiness, instrumentalness, and liveness. It also contains information about the key, tempo, and time-signature. It also has data about the song’s popularity corresponding to how much the song has been played on Spotify. The feature we are most interested in is the genre, and we want to attempt to predict the genre based on the other data features. \n",
    "#### 3) Include code that demonstrates some of the data cleaning your group has attempted. Some examples include handling missingness and imputation.\n",
    "We checked for missing and duplicate data and removed it, we also genereated a clean csv that we will use for further analysis. \n",
    "\n",
    "We also used the describe function to check the ranges for the data, since the numeric values have an expected range and all the values fall within that, we shouldn't have to worry about imputation. \n",
    "\n",
    "\n",
    "\n"
   ]
  },
  {
   "cell_type": "code",
   "execution_count": null,
   "metadata": {
    "id": "tCbn9j81sCN_"
   },
   "outputs": [],
   "source": [
    "import pandas as pd\n",
    "import seaborn as sns\n",
    "import matplotlib.pyplot as plt\n",
    "import math\n"
   ]
  },
  {
   "cell_type": "code",
   "execution_count": null,
   "metadata": {
    "id": "Clku2xnSsf4g"
   },
   "outputs": [],
   "source": [
    "df = pd.read_csv(\"dataset.csv\", index_col = 0)\n",
    "df.sample(20)"
   ]
  },
  {
   "cell_type": "code",
   "execution_count": null,
   "metadata": {
    "colab": {
     "base_uri": "https://localhost:8080/"
    },
    "executionInfo": {
     "elapsed": 301,
     "status": "ok",
     "timestamp": 1728605529893,
     "user": {
      "displayName": "Tej Thambi",
      "userId": "09644897144716100146"
     },
     "user_tz": 420
    },
    "id": "ulrPi57ltIF1",
    "outputId": "5de0c278-fbca-42f4-d900-c38e1a0ded10"
   },
   "outputs": [],
   "source": [
    "df.shape"
   ]
  },
  {
   "cell_type": "markdown",
   "metadata": {
    "id": "4T2CF6nQtMxP"
   },
   "source": [
    "Check for NA"
   ]
  },
  {
   "cell_type": "code",
   "execution_count": null,
   "metadata": {
    "colab": {
     "base_uri": "https://localhost:8080/"
    },
    "executionInfo": {
     "elapsed": 311,
     "status": "ok",
     "timestamp": 1728605531905,
     "user": {
      "displayName": "Tej Thambi",
      "userId": "09644897144716100146"
     },
     "user_tz": 420
    },
    "id": "s0tyisyCtPvW",
    "outputId": "000051bd-16e0-4c09-8f27-20ab70c88227"
   },
   "outputs": [],
   "source": [
    "missing_values = df.isnull().sum()\n",
    "print(missing_values)"
   ]
  },
  {
   "cell_type": "code",
   "execution_count": null,
   "metadata": {
    "colab": {
     "base_uri": "https://localhost:8080/",
     "height": 118
    },
    "executionInfo": {
     "elapsed": 484,
     "status": "ok",
     "timestamp": 1728605534868,
     "user": {
      "displayName": "Tej Thambi",
      "userId": "09644897144716100146"
     },
     "user_tz": 420
    },
    "id": "cX8N882utv84",
    "outputId": "25b1e4cf-fd5a-4357-cfbc-0a1a6a428abf"
   },
   "outputs": [],
   "source": [
    "rows_with_missing = df.isnull().any(axis=1)\n",
    "df[rows_with_missing]"
   ]
  },
  {
   "cell_type": "code",
   "execution_count": null,
   "metadata": {
    "colab": {
     "base_uri": "https://localhost:8080/",
     "height": 311
    },
    "executionInfo": {
     "elapsed": 288,
     "status": "error",
     "timestamp": 1728605536484,
     "user": {
      "displayName": "Tej Thambi",
      "userId": "09644897144716100146"
     },
     "user_tz": 420
    },
    "id": "6spSRz_DuEMd",
    "outputId": "9e8fa9de-a136-4dba-a5ea-bf1b9c601ae9"
   },
   "outputs": [],
   "source": [
    "# Remove the only observation with missing value\n",
    "df = df.drop(index=65900)"
   ]
  },
  {
   "cell_type": "code",
   "execution_count": null,
   "metadata": {
    "colab": {
     "base_uri": "https://localhost:8080/"
    },
    "executionInfo": {
     "elapsed": 360,
     "status": "ok",
     "timestamp": 1728605546394,
     "user": {
      "displayName": "Tej Thambi",
      "userId": "09644897144716100146"
     },
     "user_tz": 420
    },
    "id": "vapmZtG9uisg",
    "outputId": "7734727e-5536-43ea-a4db-b19a6b61cb83"
   },
   "outputs": [],
   "source": [
    "duplicates = df.duplicated()\n",
    "print(duplicates.sum())\n",
    "df = df.drop_duplicates(subset=None, keep='first', inplace=False)"
   ]
  },
  {
   "cell_type": "code",
   "execution_count": null,
   "metadata": {
    "colab": {
     "base_uri": "https://localhost:8080/",
     "height": 320
    },
    "executionInfo": {
     "elapsed": 305,
     "status": "ok",
     "timestamp": 1728605548639,
     "user": {
      "displayName": "Tej Thambi",
      "userId": "09644897144716100146"
     },
     "user_tz": 420
    },
    "id": "A0zD_oyLuvGg",
    "outputId": "6539b3d2-c44c-4a43-de09-6e91f9728deb"
   },
   "outputs": [],
   "source": [
    "df.select_dtypes('number').describe()"
   ]
  },
  {
   "cell_type": "markdown",
   "metadata": {},
   "source": [
    "#### 4) Include code that at least one exploratory data analysis (EDA) technique you have applied to your data and why. An example EDA could be one to help determine predictors for a response variable for simple linear regression\n"
   ]
  },
  {
   "cell_type": "code",
   "execution_count": null,
   "metadata": {
    "colab": {
     "base_uri": "https://localhost:8080/",
     "height": 508
    },
    "executionInfo": {
     "elapsed": 408,
     "status": "ok",
     "timestamp": 1728605551424,
     "user": {
      "displayName": "Tej Thambi",
      "userId": "09644897144716100146"
     },
     "user_tz": 420
    },
    "id": "vZsgtIHQvJ9C",
    "outputId": "86333768-ab76-4241-c19c-fc97c55e9d7b"
   },
   "outputs": [],
   "source": [
    "df.select_dtypes('number').corr().round(2)"
   ]
  },
  {
   "cell_type": "code",
   "execution_count": null,
   "metadata": {
    "id": "Qwc6G28Hw5rC"
   },
   "outputs": [],
   "source": [
    "df.to_csv('cleaned1.csv', index=False)"
   ]
  },
  {
   "cell_type": "code",
   "execution_count": null,
   "metadata": {
    "colab": {
     "base_uri": "https://localhost:8080/",
     "height": 487
    },
    "executionInfo": {
     "elapsed": 706,
     "status": "ok",
     "timestamp": 1728606027243,
     "user": {
      "displayName": "Tej Thambi",
      "userId": "09644897144716100146"
     },
     "user_tz": 420
    },
    "id": "-m2vSj9PzmJR",
    "outputId": "e73de832-1719-4aa6-dd11-8ee6fa942786"
   },
   "outputs": [],
   "source": [
    "genre_counts = df['track_genre'].value_counts()\n",
    "genre_counts.plot(kind='bar', color='skyblue')\n",
    "plt.title('Number of Tracks per Genre')\n",
    "plt.xlabel('Genre')\n",
    "plt.ylabel('Count')\n",
    "plt.xticks(rotation=45, ha='right')\n",
    "plt.show()"
   ]
  },
  {
   "cell_type": "code",
   "execution_count": null,
   "metadata": {},
   "outputs": [],
   "source": [
    "num_splits = 5\n",
    "num_items_per_plot = math.ceil(len(genre_counts) / num_splits)\n",
    "\n",
    "# Create subplots\n",
    "fig, axes = plt.subplots(nrows=num_splits, figsize=(10, 6 * num_splits))\n",
    "\n",
    "# Flatten axes to easily iterate over them\n",
    "axes = axes.flatten()\n",
    "\n",
    "# Loop through splits and plot each subset in a different subplot\n",
    "for i in range(num_splits):\n",
    "    start_idx = i * num_items_per_plot\n",
    "    end_idx = (i + 1) * num_items_per_plot\n",
    "    \n",
    "    # Subset the data for the current plot\n",
    "    subset = genre_counts[start_idx:end_idx]\n",
    "    \n",
    "    # Plot each subset\n",
    "    axes[i].bar(subset.index, subset.values, color='purple')\n",
    "    axes[i].set_title(f'Subplot {i + 1} - Average Popularity by Genre')\n",
    "    axes[i].set_ylabel('Average Popularity')\n",
    "    axes[i].set_xlabel('Genre')\n",
    "    axes[i].tick_params(axis='x', rotation=45, labelsize=8)\n",
    "\n",
    "# Adjust layout to prevent overlapping\n",
    "plt.tight_layout()\n",
    "plt.show()"
   ]
  },
  {
   "cell_type": "code",
   "execution_count": null,
   "metadata": {
    "colab": {
     "base_uri": "https://localhost:8080/",
     "height": 805
    },
    "executionInfo": {
     "elapsed": 2493,
     "status": "ok",
     "timestamp": 1728606017168,
     "user": {
      "displayName": "Tej Thambi",
      "userId": "09644897144716100146"
     },
     "user_tz": 420
    },
    "id": "8_zEYqIN6jhc",
    "outputId": "3c1cb4be-da40-40b4-bcfa-823217bc29ca"
   },
   "outputs": [],
   "source": [
    "plt.figure(figsize=(10, 8))\n",
    "sns.heatmap(df.select_dtypes('number').corr(), annot=True, cmap='coolwarm', linewidths=0.5)\n",
    "plt.title('Correlation Heatmap of Numerical Features')\n",
    "plt.show()"
   ]
  },
  {
   "cell_type": "code",
   "execution_count": null,
   "metadata": {
    "colab": {
     "base_uri": "https://localhost:8080/",
     "height": 607
    },
    "executionInfo": {
     "elapsed": 998,
     "status": "ok",
     "timestamp": 1728606012083,
     "user": {
      "displayName": "Tej Thambi",
      "userId": "09644897144716100146"
     },
     "user_tz": 420
    },
    "id": "3cf0DKBO7eBy",
    "outputId": "eb536bdb-8a8a-4f19-9c97-c84368dd7930"
   },
   "outputs": [],
   "source": [
    "avg_popularity_by_genre = df.groupby('track_genre')['popularity'].mean().sort_values(ascending=False)\n",
    "avg_popularity_by_genre.plot(kind='bar', color='purple', figsize=(10, 6))\n",
    "plt.title('Average Popularity by Genre')\n",
    "plt.ylabel('Average Popularity')\n",
    "plt.xlabel('Genre')\n",
    "plt.xticks(rotation=45, ha='right')\n",
    "plt.tight_layout()\n",
    "plt.show()\n"
   ]
  },
  {
   "cell_type": "code",
   "execution_count": null,
   "metadata": {},
   "outputs": [],
   "source": [
    "num_splits = 3\n",
    "num_items_per_plot = math.ceil(len(avg_popularity_by_genre) / num_splits)\n",
    "\n",
    "# Create subplots\n",
    "fig, axes = plt.subplots(nrows=num_splits, figsize=(10, 6 * num_splits))\n",
    "\n",
    "# Flatten axes to easily iterate over them\n",
    "axes = axes.flatten()\n",
    "\n",
    "# Loop through splits and plot each subset in a different subplot\n",
    "for i in range(num_splits):\n",
    "    start_idx = i * num_items_per_plot\n",
    "    end_idx = (i + 1) * num_items_per_plot\n",
    "    \n",
    "    # Subset the data for the current plot\n",
    "    subset = avg_popularity_by_genre[start_idx:end_idx]\n",
    "    \n",
    "    # Plot each subset\n",
    "    axes[i].bar(subset.index, subset.values, color='purple')\n",
    "    axes[i].set_title(f'Subplot {i + 1} - Average Popularity by Genre')\n",
    "    axes[i].set_ylabel('Average Popularity')\n",
    "    axes[i].set_xlabel('Genre')\n",
    "    axes[i].tick_params(axis='x', rotation=45, labelsize=8)\n",
    "\n",
    "# Adjust layout to prevent overlapping\n",
    "plt.tight_layout()\n",
    "plt.show()"
   ]
  },
  {
   "cell_type": "code",
   "execution_count": null,
   "metadata": {
    "colab": {
     "base_uri": "https://localhost:8080/",
     "height": 914
    },
    "executionInfo": {
     "elapsed": 5003,
     "status": "ok",
     "timestamp": 1728606011089,
     "user": {
      "displayName": "Tej Thambi",
      "userId": "09644897144716100146"
     },
     "user_tz": 420
    },
    "id": "4OAPJ0FD7r95",
    "outputId": "d72dbfd2-d06b-4c82-fa3e-99e718c6685c"
   },
   "outputs": [],
   "source": [
    "numerical_cols = df.select_dtypes(include='number').columns\n",
    "\n",
    "df[numerical_cols].hist(bins=20, figsize=(12, 10), color='skyblue')\n",
    "plt.suptitle('Distribution of Numerical Features', fontsize=16)\n",
    "plt.tight_layout()\n",
    "plt.show()\n"
   ]
  }
 ],
 "metadata": {
  "colab": {
   "provenance": []
  },
  "kernelspec": {
   "display_name": "Python 3",
   "name": "python3"
  },
  "language_info": {
   "codemirror_mode": {
    "name": "ipython",
    "version": 3
   },
   "file_extension": ".py",
   "mimetype": "text/x-python",
   "name": "python",
   "nbconvert_exporter": "python",
   "pygments_lexer": "ipython3",
   "version": "3.11.10"
  }
 },
 "nbformat": 4,
 "nbformat_minor": 0
}
